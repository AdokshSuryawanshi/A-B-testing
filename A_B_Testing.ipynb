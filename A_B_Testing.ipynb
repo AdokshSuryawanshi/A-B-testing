{
 "cells": [
  {
   "cell_type": "code",
   "execution_count": 1,
   "id": "881af862-1ff8-487b-b3a4-818821ef2d29",
   "metadata": {},
   "outputs": [],
   "source": [
    "import numpy as np\n",
    "import pandas as pd\n",
    "import matplotlib.pyplot as plt"
   ]
  },
  {
   "cell_type": "markdown",
   "id": "00741408-b72b-4d0e-a119-b6632913c71b",
   "metadata": {},
   "source": [
    "**Load the A/B Testing Dataset**\n",
    "\n",
    "We loaded our dataset from a CSV file. This dataset contains user behavior data from an online experiment — perfect for comparing the performance of two versions of a web page.\n",
    "\n"
   ]
  },
  {
   "cell_type": "code",
   "execution_count": 3,
   "id": "c9f0d5ab-c320-488e-aeec-0a1b05cdd9c4",
   "metadata": {},
   "outputs": [],
   "source": [
    "df = pd.read_csv(\"ab_data.csv\")"
   ]
  },
  {
   "cell_type": "code",
   "execution_count": 5,
   "id": "cf702d9d-23fd-446f-8949-c624d4d4c629",
   "metadata": {},
   "outputs": [
    {
     "data": {
      "text/html": [
       "<div>\n",
       "<style scoped>\n",
       "    .dataframe tbody tr th:only-of-type {\n",
       "        vertical-align: middle;\n",
       "    }\n",
       "\n",
       "    .dataframe tbody tr th {\n",
       "        vertical-align: top;\n",
       "    }\n",
       "\n",
       "    .dataframe thead th {\n",
       "        text-align: right;\n",
       "    }\n",
       "</style>\n",
       "<table border=\"1\" class=\"dataframe\">\n",
       "  <thead>\n",
       "    <tr style=\"text-align: right;\">\n",
       "      <th></th>\n",
       "      <th>user_id</th>\n",
       "      <th>timestamp</th>\n",
       "      <th>group</th>\n",
       "      <th>landing_page</th>\n",
       "      <th>converted</th>\n",
       "    </tr>\n",
       "  </thead>\n",
       "  <tbody>\n",
       "    <tr>\n",
       "      <th>0</th>\n",
       "      <td>851104</td>\n",
       "      <td>2017-01-21 22:11:48.556739</td>\n",
       "      <td>control</td>\n",
       "      <td>old_page</td>\n",
       "      <td>0</td>\n",
       "    </tr>\n",
       "    <tr>\n",
       "      <th>1</th>\n",
       "      <td>804228</td>\n",
       "      <td>2017-01-12 08:01:45.159739</td>\n",
       "      <td>control</td>\n",
       "      <td>old_page</td>\n",
       "      <td>0</td>\n",
       "    </tr>\n",
       "    <tr>\n",
       "      <th>2</th>\n",
       "      <td>661590</td>\n",
       "      <td>2017-01-11 16:55:06.154213</td>\n",
       "      <td>treatment</td>\n",
       "      <td>new_page</td>\n",
       "      <td>0</td>\n",
       "    </tr>\n",
       "    <tr>\n",
       "      <th>3</th>\n",
       "      <td>853541</td>\n",
       "      <td>2017-01-08 18:28:03.143765</td>\n",
       "      <td>treatment</td>\n",
       "      <td>new_page</td>\n",
       "      <td>0</td>\n",
       "    </tr>\n",
       "    <tr>\n",
       "      <th>4</th>\n",
       "      <td>864975</td>\n",
       "      <td>2017-01-21 01:52:26.210827</td>\n",
       "      <td>control</td>\n",
       "      <td>old_page</td>\n",
       "      <td>1</td>\n",
       "    </tr>\n",
       "  </tbody>\n",
       "</table>\n",
       "</div>"
      ],
      "text/plain": [
       "   user_id                   timestamp      group landing_page  converted\n",
       "0   851104  2017-01-21 22:11:48.556739    control     old_page          0\n",
       "1   804228  2017-01-12 08:01:45.159739    control     old_page          0\n",
       "2   661590  2017-01-11 16:55:06.154213  treatment     new_page          0\n",
       "3   853541  2017-01-08 18:28:03.143765  treatment     new_page          0\n",
       "4   864975  2017-01-21 01:52:26.210827    control     old_page          1"
      ]
     },
     "execution_count": 5,
     "metadata": {},
     "output_type": "execute_result"
    }
   ],
   "source": [
    "df.head()"
   ]
  },
  {
   "cell_type": "markdown",
   "id": "f5aa39f9-211c-4d67-95ee-53b59ea864b5",
   "metadata": {},
   "source": [
    "**Checking Group Mismatches (Treatment, Control)**\n",
    "\n",
    "We filtered for rows where users are in the treatment group but did not see the new_page.\n",
    "This helps identify inconsistencies in the experiment design — critical for data quality"
   ]
  },
  {
   "cell_type": "code",
   "execution_count": 13,
   "id": "18acde18-bbd2-48b5-a8d8-7c9f82009fb3",
   "metadata": {},
   "outputs": [
    {
     "data": {
      "text/html": [
       "<div>\n",
       "<style scoped>\n",
       "    .dataframe tbody tr th:only-of-type {\n",
       "        vertical-align: middle;\n",
       "    }\n",
       "\n",
       "    .dataframe tbody tr th {\n",
       "        vertical-align: top;\n",
       "    }\n",
       "\n",
       "    .dataframe thead th {\n",
       "        text-align: right;\n",
       "    }\n",
       "</style>\n",
       "<table border=\"1\" class=\"dataframe\">\n",
       "  <thead>\n",
       "    <tr style=\"text-align: right;\">\n",
       "      <th></th>\n",
       "      <th>user_id</th>\n",
       "      <th>timestamp</th>\n",
       "      <th>group</th>\n",
       "      <th>landing_page</th>\n",
       "      <th>converted</th>\n",
       "    </tr>\n",
       "  </thead>\n",
       "  <tbody>\n",
       "    <tr>\n",
       "      <th>308</th>\n",
       "      <td>857184</td>\n",
       "      <td>2017-01-20 07:34:59.832626</td>\n",
       "      <td>treatment</td>\n",
       "      <td>old_page</td>\n",
       "      <td>0</td>\n",
       "    </tr>\n",
       "    <tr>\n",
       "      <th>327</th>\n",
       "      <td>686623</td>\n",
       "      <td>2017-01-09 14:26:40.734775</td>\n",
       "      <td>treatment</td>\n",
       "      <td>old_page</td>\n",
       "      <td>0</td>\n",
       "    </tr>\n",
       "    <tr>\n",
       "      <th>357</th>\n",
       "      <td>856078</td>\n",
       "      <td>2017-01-12 12:29:30.354835</td>\n",
       "      <td>treatment</td>\n",
       "      <td>old_page</td>\n",
       "      <td>0</td>\n",
       "    </tr>\n",
       "    <tr>\n",
       "      <th>685</th>\n",
       "      <td>666385</td>\n",
       "      <td>2017-01-23 08:11:54.823806</td>\n",
       "      <td>treatment</td>\n",
       "      <td>old_page</td>\n",
       "      <td>0</td>\n",
       "    </tr>\n",
       "    <tr>\n",
       "      <th>713</th>\n",
       "      <td>748761</td>\n",
       "      <td>2017-01-10 15:47:44.445196</td>\n",
       "      <td>treatment</td>\n",
       "      <td>old_page</td>\n",
       "      <td>0</td>\n",
       "    </tr>\n",
       "    <tr>\n",
       "      <th>...</th>\n",
       "      <td>...</td>\n",
       "      <td>...</td>\n",
       "      <td>...</td>\n",
       "      <td>...</td>\n",
       "      <td>...</td>\n",
       "    </tr>\n",
       "    <tr>\n",
       "      <th>293773</th>\n",
       "      <td>688144</td>\n",
       "      <td>2017-01-16 20:34:50.450528</td>\n",
       "      <td>treatment</td>\n",
       "      <td>old_page</td>\n",
       "      <td>1</td>\n",
       "    </tr>\n",
       "    <tr>\n",
       "      <th>293817</th>\n",
       "      <td>876037</td>\n",
       "      <td>2017-01-17 16:15:08.957152</td>\n",
       "      <td>treatment</td>\n",
       "      <td>old_page</td>\n",
       "      <td>1</td>\n",
       "    </tr>\n",
       "    <tr>\n",
       "      <th>293917</th>\n",
       "      <td>738357</td>\n",
       "      <td>2017-01-05 15:37:55.729133</td>\n",
       "      <td>treatment</td>\n",
       "      <td>old_page</td>\n",
       "      <td>0</td>\n",
       "    </tr>\n",
       "    <tr>\n",
       "      <th>294014</th>\n",
       "      <td>813406</td>\n",
       "      <td>2017-01-09 06:25:33.223301</td>\n",
       "      <td>treatment</td>\n",
       "      <td>old_page</td>\n",
       "      <td>0</td>\n",
       "    </tr>\n",
       "    <tr>\n",
       "      <th>294252</th>\n",
       "      <td>892498</td>\n",
       "      <td>2017-01-22 01:11:10.463211</td>\n",
       "      <td>treatment</td>\n",
       "      <td>old_page</td>\n",
       "      <td>0</td>\n",
       "    </tr>\n",
       "  </tbody>\n",
       "</table>\n",
       "<p>1965 rows × 5 columns</p>\n",
       "</div>"
      ],
      "text/plain": [
       "        user_id                   timestamp      group landing_page  converted\n",
       "308      857184  2017-01-20 07:34:59.832626  treatment     old_page          0\n",
       "327      686623  2017-01-09 14:26:40.734775  treatment     old_page          0\n",
       "357      856078  2017-01-12 12:29:30.354835  treatment     old_page          0\n",
       "685      666385  2017-01-23 08:11:54.823806  treatment     old_page          0\n",
       "713      748761  2017-01-10 15:47:44.445196  treatment     old_page          0\n",
       "...         ...                         ...        ...          ...        ...\n",
       "293773   688144  2017-01-16 20:34:50.450528  treatment     old_page          1\n",
       "293817   876037  2017-01-17 16:15:08.957152  treatment     old_page          1\n",
       "293917   738357  2017-01-05 15:37:55.729133  treatment     old_page          0\n",
       "294014   813406  2017-01-09 06:25:33.223301  treatment     old_page          0\n",
       "294252   892498  2017-01-22 01:11:10.463211  treatment     old_page          0\n",
       "\n",
       "[1965 rows x 5 columns]"
      ]
     },
     "execution_count": 13,
     "metadata": {},
     "output_type": "execute_result"
    }
   ],
   "source": [
    "df[(df['group'] == 'treatment') & (df['landing_page'] != 'new_page')]"
   ]
  },
  {
   "cell_type": "code",
   "execution_count": 15,
   "id": "c08ef7ba-d24b-4b81-9c70-c4b62e028e9d",
   "metadata": {},
   "outputs": [],
   "source": [
    "df = df[((df['group'] == 'treatment') & (df['landing_page'] != 'new_page')) | \n",
    "        ((df['group'] == 'control') & (df['landing_page'] != 'old_page'))]\n"
   ]
  },
  {
   "cell_type": "code",
   "execution_count": 17,
   "id": "bab8fb86-43f3-442d-8437-92d8cd0114ca",
   "metadata": {},
   "outputs": [
    {
     "data": {
      "text/html": [
       "<div>\n",
       "<style scoped>\n",
       "    .dataframe tbody tr th:only-of-type {\n",
       "        vertical-align: middle;\n",
       "    }\n",
       "\n",
       "    .dataframe tbody tr th {\n",
       "        vertical-align: top;\n",
       "    }\n",
       "\n",
       "    .dataframe thead th {\n",
       "        text-align: right;\n",
       "    }\n",
       "</style>\n",
       "<table border=\"1\" class=\"dataframe\">\n",
       "  <thead>\n",
       "    <tr style=\"text-align: right;\">\n",
       "      <th></th>\n",
       "      <th>user_id</th>\n",
       "      <th>timestamp</th>\n",
       "      <th>group</th>\n",
       "      <th>landing_page</th>\n",
       "      <th>converted</th>\n",
       "    </tr>\n",
       "  </thead>\n",
       "  <tbody>\n",
       "    <tr>\n",
       "      <th>22</th>\n",
       "      <td>767017</td>\n",
       "      <td>2017-01-12 22:58:14.991443</td>\n",
       "      <td>control</td>\n",
       "      <td>new_page</td>\n",
       "      <td>0</td>\n",
       "    </tr>\n",
       "    <tr>\n",
       "      <th>240</th>\n",
       "      <td>733976</td>\n",
       "      <td>2017-01-11 15:11:16.407599</td>\n",
       "      <td>control</td>\n",
       "      <td>new_page</td>\n",
       "      <td>0</td>\n",
       "    </tr>\n",
       "    <tr>\n",
       "      <th>308</th>\n",
       "      <td>857184</td>\n",
       "      <td>2017-01-20 07:34:59.832626</td>\n",
       "      <td>treatment</td>\n",
       "      <td>old_page</td>\n",
       "      <td>0</td>\n",
       "    </tr>\n",
       "    <tr>\n",
       "      <th>327</th>\n",
       "      <td>686623</td>\n",
       "      <td>2017-01-09 14:26:40.734775</td>\n",
       "      <td>treatment</td>\n",
       "      <td>old_page</td>\n",
       "      <td>0</td>\n",
       "    </tr>\n",
       "    <tr>\n",
       "      <th>357</th>\n",
       "      <td>856078</td>\n",
       "      <td>2017-01-12 12:29:30.354835</td>\n",
       "      <td>treatment</td>\n",
       "      <td>old_page</td>\n",
       "      <td>0</td>\n",
       "    </tr>\n",
       "  </tbody>\n",
       "</table>\n",
       "</div>"
      ],
      "text/plain": [
       "     user_id                   timestamp      group landing_page  converted\n",
       "22    767017  2017-01-12 22:58:14.991443    control     new_page          0\n",
       "240   733976  2017-01-11 15:11:16.407599    control     new_page          0\n",
       "308   857184  2017-01-20 07:34:59.832626  treatment     old_page          0\n",
       "327   686623  2017-01-09 14:26:40.734775  treatment     old_page          0\n",
       "357   856078  2017-01-12 12:29:30.354835  treatment     old_page          0"
      ]
     },
     "execution_count": 17,
     "metadata": {},
     "output_type": "execute_result"
    }
   ],
   "source": [
    "df.head()"
   ]
  },
  {
   "cell_type": "markdown",
   "id": "d37face8-737a-435f-bf49-bc1364383c02",
   "metadata": {},
   "source": [
    "**Group Summary** \n",
    "\n",
    "We counted how many users are in each group. This helps us check if the experiment was fairly split.(a key concern for stakeholders)"
   ]
  },
  {
   "cell_type": "code",
   "execution_count": 26,
   "id": "c587ade2-42fc-4843-898e-9310c31a9e99",
   "metadata": {},
   "outputs": [
    {
     "data": {
      "image/png": "[encoded data removed]",
      "text/plain": [
       "<Figure size 640x480 with 1 Axes>"
      ]
     },
     "metadata": {},
     "output_type": "display_data"
    }
   ],
   "source": [
    "df['group'].value_counts().plot(kind='bar', color='skyblue')\n",
    "\n",
    "plt.xlabel('Group')\n",
    "plt.ylabel('Count')\n",
    "plt.title('Count of Each Group')\n",
    "\n",
    "plt.show()"
   ]
  },
  {
   "cell_type": "code",
   "execution_count": 28,
   "id": "47a038eb-b1c4-4e91-85d8-d51e0a1a9d31",
   "metadata": {},
   "outputs": [
    {
     "data": {
      "text/plain": [
       "group\n",
       "treatment    1965\n",
       "control      1928\n",
       "Name: count, dtype: int64"
      ]
     },
     "execution_count": 28,
     "metadata": {},
     "output_type": "execute_result"
    }
   ],
   "source": [
    "df['group'].value_counts()"
   ]
  },
  {
   "cell_type": "code",
   "execution_count": 30,
   "id": "06ac9b43-7072-4432-8e72-ed856833e0c6",
   "metadata": {},
   "outputs": [
    {
     "data": {
      "text/plain": [
       "True"
      ]
     },
     "execution_count": 30,
     "metadata": {},
     "output_type": "execute_result"
    }
   ],
   "source": [
    "len(df) == 1965 + 1928"
   ]
  },
  {
   "cell_type": "markdown",
   "id": "4c18975b-451f-46b2-a3b6-bb4d2e1c9094",
   "metadata": {},
   "source": [
    "**Conversion Rates by Group**\n",
    "\n",
    "We calculated how many users converted in each group. This gives us the performance of each version from a business value angle."
   ]
  },
  {
   "cell_type": "code",
   "execution_count": 37,
   "id": "81fe9e1b-41a2-4cd0-93ff-b78c2e4a064e",
   "metadata": {},
   "outputs": [
    {
     "data": {
      "image/png": "[encoded data removed]",
      "text/plain": [
       "<Figure size 600x400 with 1 Axes>"
      ]
     },
     "metadata": {},
     "output_type": "display_data"
    }
   ],
   "source": [
    "# Group and count converted users by group\n",
    "conversion_counts = df[df['converted'] == 1].groupby('group').size().reset_index(name='count')\n",
    "\n",
    "# Plot\n",
    "plt.figure(figsize=(6, 4))\n",
    "plt.bar(conversion_counts['group'], conversion_counts['count'])\n",
    "plt.title('Number of Conversions by Group')\n",
    "plt.xlabel('Group')\n",
    "plt.ylabel('Number of Conversions')\n",
    "plt.tight_layout()\n",
    "plt.show()\n"
   ]
  },
  {
   "cell_type": "code",
   "execution_count": 41,
   "id": "23ab232d-68d4-4b19-8428-47456426b031",
   "metadata": {},
   "outputs": [
    {
     "data": {
      "text/plain": [
       "group      count\n",
       "control    234      1\n",
       "treatment  250      1\n",
       "Name: count, dtype: int64"
      ]
     },
     "execution_count": 41,
     "metadata": {},
     "output_type": "execute_result"
    }
   ],
   "source": [
    "conversion_counts\n",
    "conversion_counts.value_counts()"
   ]
  },
  {
   "cell_type": "code",
   "execution_count": 35,
   "id": "43daccf4-2445-4d91-aebe-1a985fc348cb",
   "metadata": {},
   "outputs": [
    {
     "name": "stdout",
     "output_type": "stream",
     "text": [
      "0.12136929460580913\n"
     ]
    }
   ],
   "source": [
    "control_group_converted = df[(df['group'] == 'control') & (df['converted'] == 1)]\n",
    "\n",
    "conversion_rate_a = len(control_group_converted) / len(df[df['group'] == 'control'])\n",
    "print(conversion_rate_a)\n"
   ]
  },
  {
   "cell_type": "code",
   "execution_count": 43,
   "id": "82c4a4d6-4e51-4c9f-8be9-64abd4ef8981",
   "metadata": {},
   "outputs": [
    {
     "name": "stdout",
     "output_type": "stream",
     "text": [
      "0.1272264631043257\n"
     ]
    }
   ],
   "source": [
    "treatment_group_converted = df[(df['group'] == 'treatment') & (df['converted'] == 1)]\n",
    "\n",
    "conversion_rate_b = len(treatment_group_converted) / len(df[df['group'] == 'treatment'])\n",
    "print(conversion_rate_b)"
   ]
  },
  {
   "cell_type": "markdown",
   "id": "ea19ecd0-6412-48ed-8ab4-697971a73c53",
   "metadata": {},
   "source": [
    "**Proportion Z-Test**\n",
    "\n",
    "We applied a traditional statistical method to check if the conversion difference is significant — asking “is this result likely just due to random chance?”"
   ]
  },
  {
   "cell_type": "code",
   "execution_count": 48,
   "id": "7e3b4397-98fc-4fc5-ab0b-21a3bde45d3d",
   "metadata": {},
   "outputs": [
    {
     "name": "stdout",
     "output_type": "stream",
     "text": [
      "Z-statistic: -0.55377\n",
      "P-value: 0.57974\n"
     ]
    }
   ],
   "source": [
    "from statsmodels.stats.proportion import proportions_ztest\n",
    "\n",
    "convert_control = df[df['group'] == 'control']['converted'].sum()\n",
    "convert_treatment = df[df['group'] == 'treatment']['converted'].sum()\n",
    "\n",
    "n_control = df[df['group'] == 'control'].shape[0]\n",
    "n_treatment = df[df['group'] == 'treatment'].shape[0]\n",
    "\n",
    "counts = [convert_control, convert_treatment]\n",
    "nobs = [n_control, n_treatment]\n",
    "\n",
    "z_stat, p_value = proportions_ztest(count=counts, nobs=nobs, alternative='two-sided')\n",
    "\n",
    "print(f\"Z-statistic: {z_stat:.5}\")\n",
    "print(f\"P-value: {p_value:.5f}\")"
   ]
  },
  {
   "cell_type": "markdown",
   "id": "2f73ce3d-057b-4498-9293-6f7ca7d7030c",
   "metadata": {},
   "source": [
    "**Z-Test Results**\n",
    "\n",
    "We reviewed the p-value and z-statistic. A low p-value would suggest the change has measurable impact. in this case we accept the H0 (null hyphothesis) since it's not less than 0.05."
   ]
  },
  {
   "cell_type": "markdown",
   "id": "3f388aec-e2cc-4549-a0a5-cd5815b110b3",
   "metadata": {},
   "source": [
    "**Bayesian Setup**\n",
    "\n",
    "We prepared the counts for Bayesian analysis. This allows us to estimate probability distributions for conversion rates."
   ]
  },
  {
   "cell_type": "code",
   "execution_count": 54,
   "id": "f419297a-2384-419a-9875-d494449cdb1c",
   "metadata": {},
   "outputs": [
    {
     "name": "stdout",
     "output_type": "stream",
     "text": [
      "Probability that treatment is better: 0.707\n"
     ]
    },
    {
     "data": {
      "image/png": "[encoded data removed]",
      "text/plain": [
       "<Figure size 1000x600 with 1 Axes>"
      ]
     },
     "metadata": {},
     "output_type": "display_data"
    }
   ],
   "source": [
    "from scipy.stats import beta\n",
    "\n",
    "control_data = df[df['group'] == 'control']['converted']\n",
    "control_success = control_data.sum()\n",
    "control_total = control_data.count()\n",
    "\n",
    "treatment_data = df[df['group'] == 'treatment']['converted']\n",
    "treatment_success = treatment_data.sum()\n",
    "treatment_total = treatment_data.count()\n",
    "\n",
    "alpha_c, beta_c = control_success + 1, control_total - control_success + 1\n",
    "alpha_t, beta_t = treatment_success + 1, treatment_total - treatment_success + 1\n",
    "\n",
    "samples = 100_000\n",
    "control_posterior = beta.rvs(alpha_c, beta_c, size=samples)\n",
    "treatment_posterior = beta.rvs(alpha_t, beta_t, size=samples)\n",
    "\n",
    "prob_treatment_better = (treatment_posterior > control_posterior).mean()\n",
    "print(f\"Probability that treatment is better: {prob_treatment_better:.3f}\")\n",
    "\n",
    "# Plot posterior distributions\n",
    "plt.figure(figsize=(10,6))\n",
    "plt.hist(control_posterior, bins=100, alpha=0.5, label='Control', color='blue', density=True)\n",
    "plt.hist(treatment_posterior, bins=100, alpha=0.5, label='Treatment', color='green', density=True)\n",
    "plt.axvline(control_posterior.mean(), color='blue', linestyle='--')\n",
    "plt.axvline(treatment_posterior.mean(), color='green', linestyle='--')\n",
    "plt.title(\"Posterior Distributions of Conversion Rates\")\n",
    "plt.xlabel(\"Conversion Rate\")\n",
    "plt.ylabel(\"Density\")\n",
    "plt.legend()\n",
    "plt.show()"
   ]
  },
  {
   "cell_type": "markdown",
   "id": "2e4297da-9a9f-4116-a8c4-203460ecf569",
   "metadata": {},
   "source": [
    "**Beta Distribution Sampling**\n",
    "\n",
    "We simulated conversion rate probabilities using Bayesian inference — this shows not just the average, but the full uncertainty.\n",
    "\n"
   ]
  },
  {
   "cell_type": "markdown",
   "id": "ab77d189-ef59-4ffe-b79c-c5473d364328",
   "metadata": {},
   "source": [
    "**Probability that Treatment is Better**\n",
    "\n",
    "Instead of “significant or not,” we asked: what’s the chance that treatment performs better? This provides clearer insight for decision-makers"
   ]
  },
  {
   "cell_type": "code",
   "execution_count": 60,
   "id": "ca771038-93a5-4f4f-8c91-1840ee6b57d7",
   "metadata": {},
   "outputs": [
    {
     "data": {
      "text/plain": [
       "array([0.11314167, 0.14260046])"
      ]
     },
     "execution_count": 60,
     "metadata": {},
     "output_type": "execute_result"
    }
   ],
   "source": [
    "np.percentile(treatment_posterior, [2.5, 97.5])"
   ]
  },
  {
   "cell_type": "markdown",
   "id": "30376356-fcc5-4881-bfd4-24a0d6f272b6",
   "metadata": {},
   "source": [
    "**Is the Treatment Better?**\n",
    "\n",
    "While traditional hypothesis testing (i.e., p-values) did not show a statistically significant difference, our Bayesian analysis estimates a 70% probability that the treatment outperforms the control.\n",
    "\n",
    "From a business standpoint, this is promising but not conclusive. A 70% probability indicates moderate evidence that the new page could lead to improved conversions — not yet strong enough to justify a full-scale rollout.\n",
    "\n",
    "**Recommended Next Steps:**\n",
    "\n",
    "- Increase sample size with a new A/B test to boost confidence.\n",
    "\n",
    "- Explore segment-level analysis to identify groups where the treatment may have stronger impact.\n",
    "\n",
    "- Bayesian analysis enables decision-making under uncertainty by providing probabilistic insights rather than binary outcomes. In this case, the treatment variant shows potential, but further validation is recommended before committing to implementation.\n",
    "\n"
   ]
  },
  {
   "cell_type": "code",
   "execution_count": null,
   "id": "cd3c8825-f07f-479f-ae58-1d4479880a61",
   "metadata": {},
   "outputs": [],
   "source": []
  },
  {
   "cell_type": "code",
   "execution_count": null,
   "id": "500a1561-bad8-47e5-8004-cbcf2f203502",
   "metadata": {},
   "outputs": [],
   "source": []
  },
  {
   "cell_type": "code",
   "execution_count": null,
   "id": "0f52869e-bf86-43d8-b7e4-37e6d615f7a7",
   "metadata": {},
   "outputs": [],
   "source": []
  },
  {
   "cell_type": "code",
   "execution_count": null,
   "id": "f2144588-b796-4b2b-b5a5-45a9107a6974",
   "metadata": {},
   "outputs": [],
   "source": []
  },
  {
   "cell_type": "code",
   "execution_count": null,
   "id": "0f4b180e-099e-4069-9808-bbdde82d54b6",
   "metadata": {},
   "outputs": [],
   "source": []
  },
  {
   "cell_type": "code",
   "execution_count": null,
   "id": "2ebcb62e-f301-4160-8465-abd4f4207a04",
   "metadata": {},
   "outputs": [],
   "source": []
  },
  {
   "cell_type": "code",
   "execution_count": null,
   "id": "25fcc094-2d09-4ca6-aa78-05970018f6d1",
   "metadata": {},
   "outputs": [],
   "source": []
  }
 ],
 "metadata": {
  "kernelspec": {
   "display_name": "Python 3 (ipykernel)",
   "language": "python",
   "name": "python3"
  },
  "language_info": {
   "codemirror_mode": {
    "name": "ipython",
    "version": 3
   },
   "file_extension": ".py",
   "mimetype": "text/x-python",
   "name": "python",
   "nbconvert_exporter": "python",
   "pygments_lexer": "ipython3",
   "version": "3.12.4"
  }
 },
 "nbformat": 4,
 "nbformat_minor": 5
}
